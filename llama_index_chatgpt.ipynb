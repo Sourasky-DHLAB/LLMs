{
  "nbformat": 4,
  "nbformat_minor": 0,
  "metadata": {
    "colab": {
      "provenance": [],
      "include_colab_link": true
    },
    "kernelspec": {
      "name": "python3",
      "display_name": "Python 3"
    },
    "language_info": {
      "name": "python"
    }
  },
  "cells": [
    {
      "cell_type": "markdown",
      "metadata": {
        "id": "view-in-github",
        "colab_type": "text"
      },
      "source": [
        "<a href=\"https://colab.research.google.com/github/Sourasky-DHLAB/LLMs/blob/main/llama_index_chatgpt.ipynb\" target=\"_parent\"><img src=\"https://colab.research.google.com/assets/colab-badge.svg\" alt=\"Open In Colab\"/></a>"
      ]
    },
    {
      "cell_type": "markdown",
      "source": [
        "<div style=\"direction:rtl\" dir=\"rtl\">\n",
        "    <img src=\"http://drive.google.com/uc?export=view&id=1FnLVIqEV1Tt5rCEOIk5OxihO6xdZgTMe\"><br>\n",
        "<div style=\"direction:rtl\" dir=\"rtl\">\n",
        "  <p style=\"text-align: right; direction: rtl; float: right;\">    נכתב על ידי <a href=\"mailto:odedzarchia@tauex.tau.ac.il\">עודד זרחיה</a> | <a href=\"https://github.com/Sourasky-DHLAB\">Github</a><br>\n",
        "    <a href=\"https://cenlib.tau.ac.il/\">הספרייה המרכזית ע\"ש סוראסקי</a> | <a href=\"https://tau.ac.il/\">אוניברסיטת תל אביב</a>\n",
        "</div></p>"
      ],
      "metadata": {
        "id": "vU2j2zGydhuT"
      }
    },
    {
      "cell_type": "markdown",
      "source": [
        "<div dir=\"rtl\">\n",
        "<h1><strong>1.  מודלי שפה גדולים לשימוש אקדמי - עדכניות נתוני האימון </strong></h1>\n",
        "<div dir=\"rtl\" style=\"direction: rtl;\">\n",
        "<p style=\"text-align: right; direction: rtl; float: right;\">מודל שפה גדול (באנגלית: Large Language Model; ראשי תיבות: LLM) הוא אלגוריתם למידה עמוקה שיכול לזהות, לסכם, לתרגם, לחזות ולייצר טקסט וצורות אחרות של תוכן בהתבסס על ידע שנרכש ממערכי נתונים אדירי מימדים.</p>\n",
        "\n",
        "<p style=\"text-align: right; direction: rtl; float: right;\">מודלי שפה גדולים הם טכנולוגיה יוצאת מגדר הרגיל ליצירת טקסט. עם זאת, טכנולוגיה זו עדיין נמצאת בראשיתה ולפיכך סובלת משורה של מגבלות משמעותיות שמקשות על ניצולה לצרכים אקדמיים. אחת מן המגבלות המשמעותיות קשורה להוספת ידע חדש אל מודל השפה.</p>\n",
        "\n",
        "<p style=\"text-align: right; direction: rtl; float: right;\">אימון של מודלי שפה גדולים מבוצע על סט תחום בזמן של נתונים. כלומר, נתוני האימון מכילים מידע שמסתיים בתאריך מסוים (knowledge cutoff). כך, לדוגמה, נתוני האימון של מודל השפה ChatGPT של חברת OpenAI הסתיימו בספטמבר 2021. לפיכך, מודל זה לא יוכל להתייחס לארועים שקרו לאחר תאריך זה.</p>\n"
      ],
      "metadata": {
        "id": "V9jx8PbvdtQU"
      }
    },
    {
      "cell_type": "markdown",
      "source": [
        "<div dir=\"rtl\">\n",
        "<h1><strong>2. מודלי שפה גדולים לשימוש אקדמי - הוספת ידע חדש</strong></h1>\n",
        "<div dir=\"rtl\" style=\"direction: rtl;\">\n",
        "<p style=\"text-align: right; direction: rtl; float: right;\">ישנן מספר דרכים להוסיף ידע חדש למודל שפה גדול, כאשר הנפוצה מביניהן מכונה Fine-tuning. בדרך זו ניתן לאמן מודל שפה על סט הנתונים שבידך. עם זאת, פעולה זו מצריכה מיומנות טכנית גבוהה, משאבי מחשוב מרובים וזמן רב.\n",
        "\n",
        "<p style=\"text-align: right; direction: rtl; float: right;\">בהשראת ההתפתחויות האחרונות בתחום מסגרות הפיתוח לעבודה עם מודלי שפה גדולים, מחברת  מחברת זו תלווה אותך בהתקנה של llama-index, מסגרת פיתוח המאפשרת חיבור של מקורות מידע פרטיים מסוגים שונים (PDF, Word, CSV, TXT) אל מודל שפה גדול. </p>\n",
        "\n",
        "\n",
        "<p style=\"text-align: right; direction: rtl; float: right;\">מסגרת זו תעבוד מול ChatGPT של חברת OpenAI דרך ממשק תכנות יישומים (API). לפיכך, עבודה עם מחברת זו דורשת מפתח API של חברת OpenAI. מפתח זה זמין לרכישה דרך אתר החברה.</p>\n",
        "</div>"
      ],
      "metadata": {
        "id": "DqWDbLsTNMYA"
      }
    },
    {
      "cell_type": "markdown",
      "source": [
        "<div dir=\"rtl\">\n",
        "<h1><strong>3. מודלי שפה גדולים לשימוש אקדמי - Llama index</strong></h1>\n",
        "<div dir=\"rtl\" style=\"direction: rtl;\">\n",
        "<p style=\"text-align: right; direction: rtl; float: right;\">Llama index היא מסגרת פיתוח (data framework) שמטרתה לשמש כממשק בין מודל השפה לבין המידע שנמצא ברשותך. מטרה זו מושגת באמצעות שלושה מרכיבים עיקריים:</p>\n",
        "</div>\n",
        "<ol>\n",
        "<li dir=\"rtl\" style=\"direction: rtl;\">מַחְבֵּר נתונים (data connector)- מסגרת הפיתוח מציעה מגוון של מחברי נתונים המאפשרים למשתמשים לחבר את מקורות המידע שברשותם (מסמכים, בסיסי נתונים, קבצי PDF וכולי) אל מודל השפה.</li>\n",
        "<li dir=\"rtl\" style=\"direction: rtl;\">אינדקסי-מידע (data indices) - מסגרת הפיתוח מאפשרת צורות שונות להבניית המידע שברשות המשתמשים (אינדקסים, גרפים וכולי) כך שניתן יהיה להשתמש בו בקלות עם מודל השפה.</li>\n",
        "<li dir=\"rtl\" style=\"direction: rtl;\">ממשק אחזור/שאילתה (retrieval/query interface) - מסגרת הפיתוח מאפשרת למשתמשים לתשאל את מודל השפה ולקבל תגובה שמתייחסת למידע שהזינו לו.&nbsp;\n",
        "<p style=\"text-align: right; direction: rtl; float: right;\">&nbsp;</p>\n",
        "</li>\n",
        "</ol>\n",
        "</div>"
      ],
      "metadata": {
        "id": "7KQjplW-bIAN"
      }
    },
    {
      "cell_type": "markdown",
      "source": [
        "<div dir=\"rtl\" style=\"direction: rtl;\">\n",
        "<h1><strong>4. התקנת ספריות</strong></h1>\n",
        "<div dir=\"rtl\" style=\"direction: rtl;\">\n",
        "<p style=\"text-align: right; direction: rtl; float: right;\">הריצו את התא הבא כדי להוריד ולהתקין את מסגרת הפיתוח של Llama index ואת ספריית openai המאפשרת גישה בפייתון אל מִנְשַׁק תִּכְנוּת היִשּׂוּמִים (API) של חברת OpenAI.</p>\n",
        "</div>\n",
        "</div>"
      ],
      "metadata": {
        "id": "rJUAoskkfzNZ"
      }
    },
    {
      "cell_type": "code",
      "execution_count": null,
      "metadata": {
        "id": "8GOnj-uNwte0"
      },
      "outputs": [],
      "source": [
        "!pip install llama-index\n",
        "!pip install openai"
      ]
    },
    {
      "cell_type": "markdown",
      "source": [
        "<h1><strong><div style=\"direction:rtl\" dir=\"rtl\">5. הגדרת מפתח API </div></h1></strong>\n",
        "<div style=\"direction:rtl\" dir=\"rtl\">\n",
        "  <p style=\"text-align: right; direction: rtl; float: right;\">\n",
        "הכניסו את מפתח ה-API שלכם במקום המתאים לכך בשורות 3 ו-4 (<code>INSERT_OPENAI_API_KEY_HERE</code>). לאחר מכן הריצו את התא.</p>"
      ],
      "metadata": {
        "id": "jkayya3ohbmJ"
      }
    },
    {
      "cell_type": "code",
      "source": [
        "import os\n",
        "import openai\n",
        "openai.api_key = 'INSERT_OPENAI_API_KEY_HERE'\n",
        "os.environ['OPENAI_API_KEY'] = 'INSERT_OPENAI_API_KEY_HERE'"
      ],
      "metadata": {
        "id": "Hm9ik6kwU0i5"
      },
      "execution_count": null,
      "outputs": []
    },
    {
      "cell_type": "markdown",
      "source": [
        "<h1><strong><div style=\"direction:rtl\" dir=\"rtl\">6. ייבוא ספריות וטעינת קבצים  </div></h1></strong>\n",
        "<div style=\"direction:rtl\" dir=\"rtl\">\n",
        "  <p style=\"text-align: right; direction: rtl; float: right;\">\n",
        "הריצו את התא הבא כדי לייבא את הספריות הנחוצות על מנת לטעון קובץ PDF ולייצר\n",
        "עבורו אינדקס מתאים. הדוגמה במחברת זו מבוססת על דו\"ח של מרכז אדוה בשם <a href = https://adva.org/wp-content/uploads/2022/05/Israel-SocialReport2022.pdf>ISRAEL: A SOCIAL REPORT – 2022 </a> שפורסם בחודש מאי של שנת 2022 בפורמט PDF. </p>"
      ],
      "metadata": {
        "id": "lLCPj-Iyyg1D"
      }
    },
    {
      "cell_type": "code",
      "source": [
        "from llama_index import VectorStoreIndex, SimpleDirectoryReader, ListIndex, download_loader, GPTVectorStoreIndex\n",
        "\n",
        "PyMuPDFReader = download_loader(\"PyMuPDFReader\")\n",
        "documents = PyMuPDFReader().load(file_path='/content/sample_data/Israel-SocialReport2022.pdf', metadata=True)\n",
        "# ensure document texts are not bytes objects\n",
        "for doc in documents:\n",
        "    doc.text = doc.text.decode()"
      ],
      "metadata": {
        "id": "sIPBL1Y4km1y"
      },
      "execution_count": null,
      "outputs": []
    },
    {
      "cell_type": "code",
      "source": [
        "from llama_index import VectorStoreIndex, SimpleDirectoryReader, ListIndex, download_loader, GPTVectorStoreIndex\n",
        "from pathlib import Path\n",
        "from llama_index import download_loader\n",
        "\n",
        "SimpleCSVReader = download_loader(\"SimpleCSVReader\")\n",
        "\n",
        "loader = SimpleCSVReader()\n",
        "documents = loader.load_data(file=Path('/content/sample_data/Horodisch for Oded (1).csv'))"
      ],
      "metadata": {
        "id": "cJ0EM-24ISV3"
      },
      "execution_count": null,
      "outputs": []
    },
    {
      "cell_type": "markdown",
      "source": [
        "<h1><strong><div style=\"direction:rtl\" dir=\"rtl\">7. בדיקת קבצים ותצוגה מקדימה </div></h1></strong>\n",
        "<div style=\"direction:rtl\" dir=\"rtl\">\n",
        "  <p style=\"text-align: right; direction: rtl; float: right;\">\n",
        "הריצו את התא הבא כדי לוודא שהקובץ נטען כראוי עם ה-metadata הרלבנטי.</p>"
      ],
      "metadata": {
        "id": "X21I-aTfz37T"
      }
    },
    {
      "cell_type": "code",
      "source": [
        "# print a document to test. Each document is a single page from the pdf, with appropriate metadata\n",
        "documents[0]"
      ],
      "metadata": {
        "id": "DHOu9ZI4uLA1"
      },
      "execution_count": null,
      "outputs": []
    },
    {
      "cell_type": "markdown",
      "source": [
        "<h1><strong><div style=\"direction:rtl\" dir=\"rtl\">8. יצירת אינדקס </div></h1></strong>\n",
        "<div style=\"direction:rtl\" dir=\"rtl\">\n",
        "  <p style=\"text-align: right; direction: rtl; float: right;\">\n",
        "הריצו את התא הבא כדי ליצור את האינדקס עבור הקובץ שטענו.</p>"
      ],
      "metadata": {
        "id": "XrkQe2Ze0Nsp"
      }
    },
    {
      "cell_type": "code",
      "source": [
        "index = ListIndex.from_documents(documents)\n",
        "index.storage_context.persist(persist_dir=\"./storage\")"
      ],
      "metadata": {
        "id": "u40vgkT3uY5X"
      },
      "execution_count": null,
      "outputs": []
    },
    {
      "cell_type": "markdown",
      "source": [
        "<h1><strong><div style=\"direction:rtl\" dir=\"rtl\">9. תשאול </div></h1></strong>\n",
        "<div style=\"direction:rtl\" dir=\"rtl\">\n",
        "  <p style=\"text-align: right; direction: rtl; float: right;\">\n",
        "הריצו את התאים הבאים כדי לתשאל את הקובץ. ניתן לשנות את השאלה בתוך משתנה <code>response</code> .</p>"
      ],
      "metadata": {
        "id": "LOwkYTu603Yo"
      }
    },
    {
      "cell_type": "code",
      "source": [
        "query_engine = index.as_query_engine()\n",
        "response = query_engine.query(\"given the context information, what was the percentage of 17 year olds enrolled in twelfth grade in 2012?\")\n",
        "print(response)"
      ],
      "metadata": {
        "id": "USVIvzsAkuv1"
      },
      "execution_count": null,
      "outputs": []
    },
    {
      "cell_type": "code",
      "source": [
        "query_engine = index.as_query_engine()\n",
        "response = query_engine.query(\"given the context information, what is the National Health Insurance Law of 1994?\")\n",
        "print(response)"
      ],
      "metadata": {
        "id": "hikp68qyxXMk"
      },
      "execution_count": null,
      "outputs": []
    },
    {
      "cell_type": "code",
      "source": [
        "query_engine = index.as_query_engine()\n",
        "response = query_engine.query(\"given the context information, why is the vision of Israel as a startup nation is problematic?\")\n",
        "print(response)"
      ],
      "metadata": {
        "colab": {
          "base_uri": "https://localhost:8080/"
        },
        "id": "Y9Nj4Ykmxkmr",
        "outputId": "8bba367e-bf42-464c-83a8-af93459c6569"
      },
      "execution_count": null,
      "outputs": [
        {
          "output_type": "stream",
          "name": "stdout",
          "text": [
            "\n",
            "The vision of Israel as a startup nation is problematic because the educational system is not equipped to provide the educated workers needed to support the hi-tech sector. Additionally, the public health system, public education system, and housing policy lack sufficient resources and personnel to provide quality services to all Israelis. Furthermore, the social expenditure as a percentage of GDP is lower than the average of OECD countries, meaning that the state is not able to adequately cope with socio-economic inequality.\n"
          ]
        }
      ]
    },
    {
      "cell_type": "code",
      "source": [
        "query_engine = index.as_query_engine()\n",
        "response = query_engine.query(\"given the context information, what is the status of higher education in Israel?\")\n",
        "print(response)"
      ],
      "metadata": {
        "colab": {
          "base_uri": "https://localhost:8080/"
        },
        "id": "MURtwbK_1PmD",
        "outputId": "8ff60fdb-54ce-46bb-aef9-cbe84289c6ea"
      },
      "execution_count": null,
      "outputs": [
        {
          "output_type": "stream",
          "name": "stdout",
          "text": [
            "\n",
            "The status of higher education in Israel is that the percentage of Jews and Arabs enrolled in institutes of higher learning has increased over the past decade, with the number of Arab students growing by 122%. However, the percentage of high school graduates continuing on to academic studies has remained low.\n"
          ]
        }
      ]
    }
  ]
}