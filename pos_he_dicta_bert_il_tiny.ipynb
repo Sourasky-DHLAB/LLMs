{
  "nbformat": 4,
  "nbformat_minor": 0,
  "metadata": {
    "colab": {
      "provenance": [],
      "authorship_tag": "ABX9TyPCa48WyKqF5c8l2h8I8yod",
      "include_colab_link": true
    },
    "kernelspec": {
      "name": "python3",
      "display_name": "Python 3"
    },
    "language_info": {
      "name": "python"
    }
  },
  "cells": [
    {
      "cell_type": "markdown",
      "metadata": {
        "id": "view-in-github",
        "colab_type": "text"
      },
      "source": [
        "<a href=\"https://colab.research.google.com/github/Sourasky-DHLAB/LLMs/blob/main/pos_he_dicta_bert_il_tiny.ipynb\" target=\"_parent\"><img src=\"https://colab.research.google.com/assets/colab-badge.svg\" alt=\"Open In Colab\"/></a>"
      ]
    },
    {
      "cell_type": "code",
      "source": [
        "# Import libraries\n",
        "from transformers import AutoModel, AutoTokenizer\n",
        "import pandas as pd\n",
        "import json\n",
        "from tqdm import tqdm"
      ],
      "metadata": {
        "id": "-swxZuk_m7kn"
      },
      "execution_count": 111,
      "outputs": []
    },
    {
      "cell_type": "code",
      "source": [
        "# Load the tokenizer and model\n",
        "tokenizer = AutoTokenizer.from_pretrained('dicta-il/dictabert-tiny-joint')\n",
        "model = AutoModel.from_pretrained('dicta-il/dictabert-tiny-joint', trust_remote_code=True)"
      ],
      "metadata": {
        "id": "N5wX96_vqsDd"
      },
      "execution_count": null,
      "outputs": []
    },
    {
      "cell_type": "code",
      "source": [
        "# Set the model to evaluation mode\n",
        "model.eval()"
      ],
      "metadata": {
        "id": "Y-Y7nZF6qyMM"
      },
      "execution_count": null,
      "outputs": []
    },
    {
      "cell_type": "code",
      "source": [
        "# Read sentences from the file\n",
        "file_path = \"/content/test1.txt\"\n",
        "with open(file_path, \"r\", encoding=\"utf-8\") as file:\n",
        "    sentences = [line.strip() for line in file if line.strip()]"
      ],
      "metadata": {
        "id": "zMiuWDMiyWkj"
      },
      "execution_count": 107,
      "outputs": []
    },
    {
      "cell_type": "code",
      "source": [
        "print(sentences)"
      ],
      "metadata": {
        "id": "zVYFuPOpcne7"
      },
      "execution_count": null,
      "outputs": []
    },
    {
      "cell_type": "code",
      "source": [
        "# Initialize a list to hold the outputs\n",
        "outputs = []"
      ],
      "metadata": {
        "id": "QE2wZl9xtST7"
      },
      "execution_count": 109,
      "outputs": []
    },
    {
      "cell_type": "code",
      "source": [
        "# Assuming 'sentences' is a list or similar iterable\n",
        "for sentence in tqdm(sentences, desc=\"Processing sentences\"):\n",
        "    # Tokenize and predict\n",
        "    inputs = tokenizer(sentence, return_tensors=\"pt\", max_length=512, truncation=True)\n",
        "    output = model.predict([sentence], tokenizer, output_style='json')\n",
        "    outputs.append(output)"
      ],
      "metadata": {
        "id": "hDwmU0q231fz"
      },
      "execution_count": null,
      "outputs": []
    },
    {
      "cell_type": "code",
      "source": [
        "# Save the outputs\n",
        "with open('/content/model_outputs.json', 'w', encoding='utf-8') as json_file:\n",
        "    json.dump(outputs, json_file, ensure_ascii=False, indent=4)"
      ],
      "metadata": {
        "id": "PZR8vxKgyCV6"
      },
      "execution_count": 97,
      "outputs": []
    },
    {
      "cell_type": "code",
      "source": [
        "# Initialize a list for CSV rows\n",
        "csv_rows = []"
      ],
      "metadata": {
        "id": "rzIQpBakwPVn"
      },
      "execution_count": 98,
      "outputs": []
    },
    {
      "cell_type": "code",
      "source": [
        "# Find the maximum number of verbs in future tense and compounds for any sentence\n",
        "max_verbs = max(len(verbs) for entry in outputs for sub_entry in entry for verbs in [[token['token'] for token in sub_entry['tokens'] if token['morph']['pos'] in ['VERB', 'AUX'] and token['morph']['feats'].get('Tense') == 'Fut']])\n",
        "max_compounds = max(len(compounds) for entry in outputs for sub_entry in entry for compounds in [[token['token'] for token in sub_entry['tokens'] if token['syntax']['dep_func'] == 'compound:smixut']])\n",
        "max_dets = max(len(dets) for entry in outputs for sub_entry in entry for dets in [[token['token'] for token in sub_entry['tokens'] if 'DET' in token['morph']['prefixes']]])\n",
        "max_nums = max(len(nums) for entry in outputs for sub_entry in entry for nums in [[token['token'] for token in sub_entry['tokens'] if token['morph']['pos'] == 'NUM']])\n",
        "max_adps = max(len(adps) for entry in outputs for sub_entry in entry for adps in [[token['token'] for token in sub_entry['tokens'] if token['morph']['pos'] == 'ADP']])\n",
        "max_adjs = max(len(adj_genders) for entry in outputs for sub_entry in entry for adj_genders in [[token['morph']['feats'].get('Gender', 'Not Specified') for token in sub_entry['tokens'] if token['morph']['pos'] == 'ADJ']])"
      ],
      "metadata": {
        "id": "3SRuuMUW4PJU"
      },
      "execution_count": 99,
      "outputs": []
    },
    {
      "cell_type": "code",
      "source": [
        "for entry in outputs:\n",
        "    for sub_entry in entry:\n",
        "        # Initialize row with the sentence\n",
        "        row = [sub_entry['text']]\n",
        "\n",
        "        # Collect all future tense verbs\n",
        "        verbs = [token['token'] for token in sub_entry['tokens']\n",
        "                 if token['morph']['pos'] in ['VERB', 'AUX']\n",
        "                 and token['morph']['feats'].get('Tense') == 'Fut']\n",
        "\n",
        "        # Collect all compound:smixut elements\n",
        "        compounds = [token['token'] for token in sub_entry['tokens']\n",
        "                     if token['syntax']['dep_func'] == 'compound:smixut']\n",
        "\n",
        "        # Collect all tokens with determiners\n",
        "        dets = [token['token'] for token in sub_entry['tokens']\n",
        "                if 'DET' in token['morph']['prefixes']]\n",
        "\n",
        "        # Collect all numerical tokens\n",
        "        nums = [token['token'] for token in sub_entry['tokens']\n",
        "                if token['morph']['pos'] == 'NUM']\n",
        "\n",
        "        # Collect all ADP tokens\n",
        "        adps = [token['token'] for token in sub_entry['tokens']\n",
        "                if token['morph']['pos'] == 'ADP']\n",
        "\n",
        "        # Collect gender of all ADJ tokens\n",
        "        adj_genders = [token['morph']['feats'].get('Gender', 'Not Specified') for token in sub_entry['tokens']\n",
        "                       if token['morph']['pos'] == 'ADJ']\n",
        "\n",
        "        # Extend the row with verbs, compounds, determiners, numerical, ADP tokens, and adjective genders while maintaining the order\n",
        "        extended_row = row + verbs + [''] * (max_verbs - len(verbs)) + compounds + [''] * (max_compounds - len(compounds)) + \\\n",
        "                       dets + [''] * (max_dets - len(dets)) + nums + [''] * (max_nums - len(nums)) + \\\n",
        "                       adps + [''] * (max_adps - len(adps)) + adj_genders\n",
        "\n",
        "        csv_rows.append(extended_row)"
      ],
      "metadata": {
        "id": "j1OPxWZKpfsT"
      },
      "execution_count": 100,
      "outputs": []
    },
    {
      "cell_type": "code",
      "source": [
        "# Deduplicate rows\n",
        "unique_rows = set(tuple(row) for row in csv_rows)\n",
        "csv_rows = [list(row) for row in unique_rows]"
      ],
      "metadata": {
        "id": "ezpJQAhfysF7"
      },
      "execution_count": 101,
      "outputs": []
    },
    {
      "cell_type": "code",
      "source": [
        "max_adjs = max(len(adj_genders) for entry in outputs for sub_entry in entry for adj_genders in [[token['morph']['feats'].get('Gender', 'Not Specified') for token in sub_entry['tokens'] if token['morph']['pos'] == 'ADJ']])\n",
        "\n",
        "column_headers = ['Sentence'] + \\\n",
        "                 [f'Verb_Fut{i+1}' for i in range(max_verbs)] + \\\n",
        "                 [f'Compound_Smixut{i+1}' for i in range(max_compounds)] + \\\n",
        "                 [f'Determiner{i+1}' for i in range(max_dets)] + \\\n",
        "                 [f'Number{i+1}' for i in range(max_nums)] + \\\n",
        "                 [f'Adposition{i+1}' for i in range(max_adps)] + \\\n",
        "                 [f'Adj_Gender{i+1}' for i in range(max_adjs)]"
      ],
      "metadata": {
        "id": "wDxJUoxY2NXR"
      },
      "execution_count": 102,
      "outputs": []
    },
    {
      "cell_type": "code",
      "source": [
        "# Create a DataFrame and save to CSV\n",
        "csv_df = pd.DataFrame(csv_rows, columns=column_headers)\n",
        "csv_file_path = '/content/future_tense_verbs.csv'\n",
        "csv_df.to_csv(csv_file_path, index=False, header=True, encoding='utf-8')"
      ],
      "metadata": {
        "id": "hpwMk_fUnhs_"
      },
      "execution_count": 103,
      "outputs": []
    }
  ]
}