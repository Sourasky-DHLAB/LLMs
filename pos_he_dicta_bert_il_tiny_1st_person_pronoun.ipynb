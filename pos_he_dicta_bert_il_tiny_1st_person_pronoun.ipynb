{
  "nbformat": 4,
  "nbformat_minor": 0,
  "metadata": {
    "colab": {
      "provenance": [],
      "authorship_tag": "ABX9TyNUyrvXjKbZ2kZfuN8lsmS8",
      "include_colab_link": true
    },
    "kernelspec": {
      "name": "python3",
      "display_name": "Python 3"
    },
    "language_info": {
      "name": "python"
    }
  },
  "cells": [
    {
      "cell_type": "markdown",
      "metadata": {
        "id": "view-in-github",
        "colab_type": "text"
      },
      "source": [
        "<a href=\"https://colab.research.google.com/github/Sourasky-DHLAB/LLMs/blob/main/pos_he_dicta_bert_il_tiny_1st_person_pronoun.ipynb\" target=\"_parent\"><img src=\"https://colab.research.google.com/assets/colab-badge.svg\" alt=\"Open In Colab\"/></a>"
      ]
    },
    {
      "cell_type": "code",
      "execution_count": 80,
      "metadata": {
        "id": "K69E4mU3jKDQ"
      },
      "outputs": [],
      "source": [
        "# Import libraries\n",
        "from transformers import AutoModel, AutoTokenizer\n",
        "import pandas as pd\n",
        "import json\n",
        "from tqdm import tqdm"
      ]
    },
    {
      "cell_type": "code",
      "source": [
        "# Load the tokenizer and model\n",
        "tokenizer = AutoTokenizer.from_pretrained('dicta-il/dictabert-tiny-joint')\n",
        "model = AutoModel.from_pretrained('dicta-il/dictabert-tiny-joint', trust_remote_code=True)"
      ],
      "metadata": {
        "id": "_SyWqIq8vz9f"
      },
      "execution_count": 81,
      "outputs": []
    },
    {
      "cell_type": "code",
      "source": [
        "# Set the model to evaluation mode\n",
        "model.eval()"
      ],
      "metadata": {
        "id": "LtY7GJIsv3Y2"
      },
      "execution_count": null,
      "outputs": []
    },
    {
      "cell_type": "code",
      "source": [
        "# Read sentences from the file\n",
        "file_path = \"/content/Serialized-100.txt\"\n",
        "with open(file_path, \"r\", encoding=\"utf-8\") as file:\n",
        "    sentences = [line.strip() for line in file if line.strip()]"
      ],
      "metadata": {
        "id": "xZf142YBv6oG"
      },
      "execution_count": 83,
      "outputs": []
    },
    {
      "cell_type": "code",
      "source": [
        "# Initialize a list to hold the outputs\n",
        "outputs = []"
      ],
      "metadata": {
        "id": "1EUo4JEHyyYd"
      },
      "execution_count": 84,
      "outputs": []
    },
    {
      "cell_type": "code",
      "source": [
        "# Assuming 'sentences' is a list or similar iterable\n",
        "for sentence in tqdm(sentences, desc=\"Processing sentences\"):\n",
        "    # Tokenize and predict\n",
        "    inputs = tokenizer(sentence, return_tensors=\"pt\", max_length=512, truncation=True)\n",
        "    output = model.predict([sentence], tokenizer, output_style='json')\n",
        "    outputs.append(output)"
      ],
      "metadata": {
        "colab": {
          "base_uri": "https://localhost:8080/"
        },
        "id": "Hv0NoE6Lv9dD",
        "outputId": "d4564cd0-8496-41dc-d937-2d86f55a2465"
      },
      "execution_count": 85,
      "outputs": [
        {
          "output_type": "stream",
          "name": "stderr",
          "text": [
            "Processing sentences: 100%|██████████| 100/100 [00:22<00:00,  4.52it/s]\n"
          ]
        }
      ]
    },
    {
      "cell_type": "code",
      "source": [
        "# Save the outputs\n",
        "with open('/content/model_outputs.json', 'w', encoding='utf-8') as json_file:\n",
        "    json.dump(outputs, json_file, ensure_ascii=False, indent=4)"
      ],
      "metadata": {
        "id": "abeAUOMjwE0u"
      },
      "execution_count": 86,
      "outputs": []
    },
    {
      "cell_type": "code",
      "source": [
        "# Load JSON data from the file\n",
        "with open('/content/model_outputs.json', 'r', encoding='utf-8') as file:\n",
        "    outputs = json.load(file)"
      ],
      "metadata": {
        "id": "6YO22p482HBS"
      },
      "execution_count": 87,
      "outputs": []
    },
    {
      "cell_type": "code",
      "source": [
        "csv_data = []\n",
        "max_verbs = 0  # To track the maximum number of first-person verbs"
      ],
      "metadata": {
        "id": "yJHmA63e1BtL"
      },
      "execution_count": 88,
      "outputs": []
    },
    {
      "cell_type": "code",
      "source": [
        "# Process each entry in the JSON data\n",
        "for entry in outputs:\n",
        "    for sub_entry in entry:\n",
        "        # Initialize row with the sentence\n",
        "        sentence = sub_entry['text']\n",
        "\n",
        "        # Collect all first-person verbs\n",
        "        first_person_verbs = [token['token'] for token in sub_entry['tokens']\n",
        "                              if token['morph']['pos'] == 'VERB'\n",
        "                              and 'Person' in token['morph']['feats']\n",
        "                              and token['morph']['feats']['Person'] == '1']\n",
        "\n",
        "        # Update maximum verb count if current is greater and there are first-person verbs\n",
        "        if first_person_verbs:\n",
        "            max_verbs = max(max_verbs, len(first_person_verbs))\n",
        "\n",
        "            # Extend the row with the collected first-person verbs\n",
        "            extended_row = [sentence] + first_person_verbs\n",
        "            csv_data.append(extended_row)"
      ],
      "metadata": {
        "id": "OgAkwbSr6Fqv"
      },
      "execution_count": 89,
      "outputs": []
    },
    {
      "cell_type": "code",
      "source": [
        "# Only proceed if we have collected data with first-person verbs\n",
        "if csv_data:\n",
        "    # Define column headers based on the maximum number of verbs found\n",
        "    column_headers = ['Sentence'] + [f'Verb_First_Person{i+1}' for i in range(max_verbs)]\n",
        "\n",
        "    # Ensure all rows have the same number of columns by padding with empty strings\n",
        "    for i in range(len(csv_data)):\n",
        "        while len(csv_data[i]) < len(column_headers):\n",
        "            csv_data[i].append('')  # Pad with empty strings to match the column headers\n",
        "\n",
        "    # Create a DataFrame with the collected data\n",
        "    df = pd.DataFrame(csv_data, columns=column_headers)\n",
        "\n",
        "    # Save the DataFrame to a CSV file\n",
        "    csv_file_path = '/content/first_person_verbs.csv'\n",
        "    df.to_csv(csv_file_path, index=False, encoding='utf-8')\n",
        "\n",
        "    print(f\"Data successfully saved to {csv_file_path}\")\n",
        "else:\n",
        "    print(\"No sentences with first-person verbs were found.\")"
      ],
      "metadata": {
        "colab": {
          "base_uri": "https://localhost:8080/"
        },
        "id": "ds6rbRJU6KEw",
        "outputId": "7ae50ce9-18df-48ef-a664-5e10a1659ee4"
      },
      "execution_count": 90,
      "outputs": [
        {
          "output_type": "stream",
          "name": "stdout",
          "text": [
            "Data successfully saved to /content/first_person_verbs.csv\n"
          ]
        }
      ]
    }
  ]
}