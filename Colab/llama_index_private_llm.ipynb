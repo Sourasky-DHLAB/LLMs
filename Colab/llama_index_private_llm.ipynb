{
  "nbformat": 4,
  "nbformat_minor": 0,
  "metadata": {
    "colab": {
      "provenance": [],
      "machine_shape": "hm",
      "gpuType": "T4",
      "authorship_tag": "ABX9TyPregibZb01KZMWL901Q6Gv",
      "include_colab_link": true
    },
    "kernelspec": {
      "name": "python3",
      "display_name": "Python 3"
    },
    "language_info": {
      "name": "python"
    },
    "accelerator": "GPU"
  },
  "cells": [
    {
      "cell_type": "markdown",
      "metadata": {
        "id": "view-in-github",
        "colab_type": "text"
      },
      "source": [
        "<a href=\"https://colab.research.google.com/github/Sourasky-DHLAB/LLMs/blob/main/Colab/llama_index_private_llm.ipynb\" target=\"_parent\"><img src=\"https://colab.research.google.com/assets/colab-badge.svg\" alt=\"Open In Colab\"/></a>"
      ]
    },
    {
      "cell_type": "markdown",
      "source": [
        "<div style=\"direction:rtl\" dir=\"rtl\">\n",
        "    <img src=\"http://drive.google.com/uc?export=view&id=1FnLVIqEV1Tt5rCEOIk5OxihO6xdZgTMe\"><br>\n",
        "<div style=\"direction:rtl\" dir=\"rtl\">\n",
        "  <p style=\"text-align: right; direction: rtl; float: right;\">    נכתב על ידי <a href=\"mailto:odedzarchia@tauex.tau.ac.il\">עודד זרחיה</a> | <a href=\"https://github.com/Sourasky-DHLAB\">Github</a><br>\n",
        "    <a href=\"https://cenlib.tau.ac.il/\">הספרייה המרכזית ע\"ש סוראסקי</a> | <a href=\"https://tau.ac.il/\">אוניברסיטת תל אביב</a>\n",
        "</div></p>"
      ],
      "metadata": {
        "id": "Hms8T-K_v2F0"
      }
    },
    {
      "cell_type": "markdown",
      "source": [
        "<div dir=\"rtl\">\n",
        "<h1><strong>1. מודלי שפה גדולים לשימוש אקדמי - פרטיות</strong></h1>\n",
        "<div dir=\"rtl\" style=\"direction: rtl;\">\n",
        "<p style=\"text-align: right; direction: rtl; float: right;\"><a href=\"https://he.wikipedia.org/wiki/%D7%9E%D7%95%D7%93%D7%9C_%D7%A9%D7%A4%D7%94_%D7%92%D7%93%D7%95%D7%9C\">מודל שפה גדול</a> (באנגלית: Large Language Model; ראשי תיבות: LLM) הוא אלגוריתם למידה עמוקה שיכול לזהות, לסכם, לתרגם, לחזות ולייצר טקסט וצורות אחרות של תוכן בהתבסס על ידע שנרכש ממערכי נתונים אדירי מימדים.</p>\n",
        "<p style=\"text-align: right; direction: rtl; float: right;\">מודלי שפה גדולים הם טכנולוגיה יוצאת מגדר הרגיל ליצירת טקסט. עם זאת, טכנולוגיה זו עדיין נמצאת בראשיתה ולפיכך סובלת משורה של מגבלות משמעותיות שמקשות על ניצולה לצרכים אקדמיים. אחת מן הבעיות המרכזיות קשורה לסוגית הגנת פרטיות ו/או צנעת הפרט.</p>\n",
        "<p style=\"text-align: right; direction: rtl; float: right;\">הואיל ומודלי שפה גדולים דרושים משאבי מחשוב רבים, השימוש בהם מחייב, בדרך כלל, הזנת מידע על ידי המשתמש ברשת האינטרנט. מידע זה עובר אל אחת מן החברות המספקות את המודלים (OpenAI, Google, Binge), ויכול, פוטנציאלית, לשמשן כדי לאמן את הגרסה הבאה של המודל. סוגית הפרטיות גרמה לאיחוד האירופי לאלץ את חברת <a href=\"https://www.politico.eu/article/google-postpone-bard-chatbot-eu-launch-privacy-concern/\">גוגל לדחות את השקת מודל השפה שלה במדינות האיחוד</a>, והינה חשובה ביותר גם בכל הקשור למידע אקדמי.</p>\n",
        "</div>"
      ],
      "metadata": {
        "id": "LZrLdRKLvv9E"
      }
    },
    {
      "cell_type": "markdown",
      "source": [
        "<div dir=\"rtl\">\n",
        "<h1><strong>2. מודלי שפה גדולים לשימוש אקדמי - התקנה מקומית</strong></h1>\n",
        "<div dir=\"rtl\" style=\"direction: rtl;\">\n",
        "<p style=\"text-align: right; direction: rtl; float: right;\">בהשראת ההתפתחויות האחרונות בתחום <a href=\"https://github.com/ggerganov/llama.cpp\">הקוונטיזציה</a> (דחיסה) של מודלי שפה גדולים, מחברת זו תלווה אותך בהתקנה של <a href=\"https://github.com/jerryjliu/llama_index\">llama-index</a>, מסגרת פיתוח המאפשרת חיבור של מקורות מידע פרטיים מסוגים שונים (PDF, Word, CSV, TXT) אל מודל שפה גדול. מסגרת זו תעבוד מול התקנה מקומית של <a href=\"https://huggingface.co/Writer/camel-5b-hf\">camel-5b-hf</a>, מודל שפה גדול לשימוש חופשי ברישיון Apache-2.0 בעל 5 מיליארד פרמטרים. כך ניתן להבטיח כי המידע שברשותך לא ייצא מסביבת הפיתוח בשום שלב.</p>\n",
        "</div>\n",
        "</div>"
      ],
      "metadata": {
        "id": "BM1bBvTb2CEd"
      }
    },
    {
      "cell_type": "markdown",
      "source": [
        "<div dir=\"rtl\">\n",
        "<h1><strong>3. בדוק את סוג המעבד הגרפי (GPU)</strong></h1>\n",
        "<p style=\"text-align: right; direction: rtl; float: right;\">בחירת <a href=\"https://https://he.wikipedia.org/wiki/%D7%9E%D7%A2%D7%91%D7%93_%D7%92%D7%A8%D7%A4%D7%99\">מעבד הגרפי</a> <strong>(GPU - Graphics Processing Unit)</strong> ב-Google Colab תשפיע באופן ישיר על מהירות הפעולה של מודל השפה. יש לוודא כי בחרתם ב-GPU כמאיץ חומרה עבור מחברת זו (Runtime &rarr; Change runtime type &rarr; Hardware accelerator).\n",
        "<p style=\"text-align: right; direction: rtl; float: right;\">הריצו את התא הבא כדי לוודא את סוג המעבד הגרפי שהוקצה עבור מחברת זו. אפסו את ה-runtime של המחברת אם ברצונכם לקבל מעבד גרפי אחר (Runtime &rarr; Restart runtime).</p>\n",
        "</div>"
      ],
      "metadata": {
        "id": "6wQGVyAx8ggQ"
      }
    },
    {
      "cell_type": "code",
      "source": [
        "# verify GPU\n",
        "!nvidia-smi"
      ],
      "metadata": {
        "id": "95-9d5X3fwXj"
      },
      "execution_count": null,
      "outputs": []
    },
    {
      "cell_type": "markdown",
      "source": [
        "<div dir=\"rtl\">\n",
        "<h1><strong>4. התקנת ספריות</strong></h1>\n",
        "<p style=\"text-align: right; direction: rtl; float: right;\">הריצו את התא הבא כדי להתקין את ספריות הדרושות להפעלת מודל השפה וחיבור המסמכים.</p>\n",
        "</div>\n",
        "</div>"
      ],
      "metadata": {
        "id": "8h7yawaP-mCz"
      }
    },
    {
      "cell_type": "code",
      "execution_count": null,
      "metadata": {
        "id": "jJUWtFk4c3mt"
      },
      "outputs": [],
      "source": [
        "# install libraries\n",
        "!pip install pymupdf sentence_transformers accelerate llama-index"
      ]
    },
    {
      "cell_type": "markdown",
      "source": [
        "<div dir=\"rtl\">\n",
        "<h1><strong>5. יבוא לעיבוד שפה ויצירת אינדקסים</strong></h1>\n",
        "<p style=\"text-align: right; direction: rtl; float: right;\">הריצו את התא הבא כדי לייבא את המודלים הדרושים לעיבוד שפה, <a href =https://en.wikipedia.org/wiki/Word_embedding>Word embeddings</a>, ויצירת אינדקסים עבור מסמכים.</p>\n",
        "</div>"
      ],
      "metadata": {
        "id": "D2_cM2bsD1i7"
      }
    },
    {
      "cell_type": "code",
      "source": [
        "# documents setup\n",
        "from langchain.embeddings.huggingface import HuggingFaceEmbeddings\n",
        "from langchain.llms import GPT4All\n",
        "from llama_index.node_parser.simple import SimpleNodeParser\n",
        "from llama_index.langchain_helpers.text_splitter import TokenTextSplitter\n",
        "from llama_index import (\n",
        "    VectorStoreIndex,\n",
        "    LangchainEmbedding,\n",
        "    LLMPredictor,\n",
        "    ServiceContext,\n",
        "    StorageContext,\n",
        "    download_loader,\n",
        "    PromptHelper,\n",
        "    SimpleDirectoryReader,\n",
        "    MockLLMPredictor\n",
        ")"
      ],
      "metadata": {
        "id": "HOqW4J1t4Ni1"
      },
      "execution_count": null,
      "outputs": []
    },
    {
      "cell_type": "markdown",
      "source": [
        "<div dir=\"rtl\">\n",
        "<h1><strong>6. הורדת מסמך PDF</strong></h1>\n",
        "<p style=\"text-align: right; direction: rtl; float: right;\">הריצו את התא הבא כדי להוריד את קובץ ה-PDF שאותו נאנדקס באמצעות llama index. במחברת זו נשתמש בגרסה האנגלית של דו\"ח בשם <a href = https://adva.org/he/socialreport2022/>\"תמונת מצב חברתית 2022\".</a> שפורסם על ידי מרכז אדוה.\n",
        "</div>"
      ],
      "metadata": {
        "id": "FGEXoFNZIB1r"
      }
    },
    {
      "cell_type": "code",
      "source": [
        "# download pdf file\n",
        "! wget -P /content/sample_data/ https://adva.org/wp-content/uploads/2022/05/Israel-SocialReport2022.pdf"
      ],
      "metadata": {
        "id": "6hudO9ODgu8j"
      },
      "execution_count": null,
      "outputs": []
    },
    {
      "cell_type": "markdown",
      "source": [
        "<div dir=\"rtl\">\n",
        "<h1><strong>7. טעינת מסמך PDF</strong></h1>\n",
        "<p style=\"text-align: right; direction: rtl; float: right;\">בתא הבא נשתמש בספריית <a href = https://pymupdf.readthedocs.io/en/latest/index.html>PyMuPDF</a> כדי לטעון את כל 44 העמודים של הדו\"ח. הפרמטר <code>metadata=True</code> יאפשר לנו לקבל מידע מועיל כדוגמת מספרי עמודים כך שנוכל לעקוב אחר המקורות לתשובות שיספק המודל.\n",
        "</div>"
      ],
      "metadata": {
        "id": "lFQ7_ZP-J-Hy"
      }
    },
    {
      "cell_type": "code",
      "source": [
        "# load pdf file\n",
        "PyMuPDFReader = download_loader(\"PyMuPDFReader\")\n",
        "documents = PyMuPDFReader().load(file_path='/content/sample_data/Israel-SocialReport2022.pdf', metadata=True)\n",
        "# ensure document texts are not bytes objects\n",
        "for doc in documents:\n",
        "    doc.text = doc.text.decode()"
      ],
      "metadata": {
        "id": "i7jIp2jJeXUG"
      },
      "execution_count": null,
      "outputs": []
    },
    {
      "cell_type": "markdown",
      "source": [
        "<div dir=\"rtl\">\n",
        "<h1><strong>8. הדפסת עמוד לבדיקה</strong></h1>\n",
        "<p style=\"text-align: right; direction: rtl; float: right;\">הריצו את התא הבא כדי להדפיס עמוד לדוגמה. ניתן לשנות את מספר העמוד שיודפס על ידי שינוי המספר בתוך הסוגריים המרובעים. יושם לב כי פייתון מתחיל לספור מ-0. כלומר, הקלדה של הספרה 1 בתוך הסוגריים המרובעים תדפיס את העמוד השני במסמך.\n",
        "</div>"
      ],
      "metadata": {
        "id": "7emQ5GCcLW0D"
      }
    },
    {
      "cell_type": "code",
      "source": [
        "# print a document to test\n",
        "documents[1]"
      ],
      "metadata": {
        "id": "naAxdXuAecKV"
      },
      "execution_count": null,
      "outputs": []
    },
    {
      "cell_type": "markdown",
      "source": [
        "<div dir=\"rtl\">\n",
        "<h1><strong>9. הגדרת מעטפת</strong></h1>\n",
        "<p style=\"text-align: right; direction: rtl; float: right;\">הריצו את התא הבא כדי להגדיר את המעטפת של מודל השפה.\n",
        "</div>"
      ],
      "metadata": {
        "id": "1cHYQi0L6DHn"
      }
    },
    {
      "cell_type": "code",
      "source": [
        "# setup prompts - specific to Camel\n",
        "from llama_index.prompts.prompts import SimpleInputPrompt\n",
        "\n",
        "# This will wrap the default prompts that are internal to llama-index\n",
        "# taken from https://huggingface.co/Writer/camel-5b-hf\n",
        "query_wrapper_prompt = SimpleInputPrompt(\n",
        "    \"Below is an instruction that describes a task. \"\n",
        "    \"Write a response that appropriately completes the request.\\n\\n\"\n",
        "    \"### Instruction:\\n{query_str}\\n\\n### Response:\"\n",
        ")"
      ],
      "metadata": {
        "id": "DbV3cC-6efxu"
      },
      "execution_count": null,
      "outputs": []
    },
    {
      "cell_type": "markdown",
      "source": [
        "<div dir=\"rtl\">\n",
        "<h1><strong>11. הורדת מודל השפה ואינטגרציה עם llama index</strong></h1>\n",
        "<p style=\"text-align: right; direction: rtl; float: right;\">הריצו את התא הבא כדי להוריד את מודל השפה יחד עם המשקולות (<a href=\"https://machine-learning.paperspace.com/wiki/weights-and-biases\">weights</a>). משקולות אלו מייצגות את הערכים המספריים המוקצים לחיבורים בין הנוירונים השונים ברשת. בנוסף, תא זה מגדיר את האינטגרציה עם מסגרת הפיתוח של llama index. גודל המודל עומד על כ-20GB, לפיכך פעולה זו צפויה להמשך קרוב ל-4 דקות.</p>\n",
        "</div>"
      ],
      "metadata": {
        "id": "OP5GfyPv6j0t"
      }
    },
    {
      "cell_type": "code",
      "source": [
        "import torch\n",
        "from llama_index.llm_predictor import HuggingFaceLLMPredictor\n",
        "\n",
        "# NOTE: the first run of this will download/cache the weights, ~20GB\n",
        "hf_predictor = HuggingFaceLLMPredictor(\n",
        "    max_input_size=2048,\n",
        "    max_new_tokens=256,\n",
        "    generate_kwargs={\"temperature\": 0.25, \"do_sample\": False},\n",
        "    query_wrapper_prompt=query_wrapper_prompt,\n",
        "    tokenizer_name=\"Writer/camel-5b-hf\",\n",
        "    model_name=\"Writer/camel-5b-hf\",\n",
        "    device_map=\"auto\",\n",
        "    tokenizer_kwargs={\"max_length\": 2048},\n",
        "    model_kwargs={\"torch_dtype\": torch.bfloat16}\n",
        ")\n",
        "\n",
        "embed_model = LangchainEmbedding(HuggingFaceEmbeddings(model_name=\"sentence-transformers/all-mpnet-base-v2\"))\n",
        "\n",
        "service_context = ServiceContext.from_defaults(chunk_size=512, llm_predictor=hf_predictor, embed_model=embed_model)\n",
        "\n",
        "from llama_index import set_global_service_context\n",
        "set_global_service_context(service_context)"
      ],
      "metadata": {
        "id": "G7B1Eqdfe3H-"
      },
      "execution_count": null,
      "outputs": []
    },
    {
      "cell_type": "markdown",
      "source": [
        "<div dir=\"rtl\">\n",
        "<h1><strong>12. יצירת ואחסון אינדקס</strong></h1>\n",
        "<p style=\"text-align: right; direction: rtl; float: right;\">הריצו את התא הבא כדי לאנדקס את מסמך ה-PDF שהעלנו. לשימוש חוזר, קבצי האינדקס יאוחסנו בתיקיית <code>storage</code> כקבצי JSON.\n",
        "המסגרת של llama index מאפשרת יצירת סוגים שונים של <a href = https://gpt-index.readthedocs.io/en/latest/guides/primer/index_guide.html>אינדקסים</a>, אולם בדוגמה זו נשתמש באינדקוס הפשוט ביותר אשר במסגרתו המסמך ממופה לוקטורים.\n",
        "</div>"
      ],
      "metadata": {
        "id": "S8jHCzsdTPkJ"
      }
    },
    {
      "cell_type": "code",
      "source": [
        "# build and store index\n",
        "index = VectorStoreIndex.from_documents(documents)\n",
        "index.storage_context.persist(persist_dir=\"./storage\")"
      ],
      "metadata": {
        "id": "UxmvWvPLfxYY"
      },
      "execution_count": null,
      "outputs": []
    },
    {
      "cell_type": "markdown",
      "source": [
        "<div dir=\"rtl\">\n",
        "<h1><strong>13. תשאול המסמך</strong></h1>\n",
        "<p style=\"text-align: right; direction: rtl; float: right;\">כעת אנו מוכנים לתשאל את המסמך באמצעות מודל השפה. llama index מאפשרת סוגים שונים של <a href =https://gpt-index.readthedocs.io/en/latest/use_cases/queries.html>חיפוש</a>, אולם בדוגמה זו נשתמש באפשרות החיפוש הפשוטה ביותר, דהיינו חיפוש סמנטי. ניתן להחליף את השאלות בהתאם לצורך בשורה השנייה של כל תא, בין המרכאות. הזמן הממוצע לתשובה עומד על מספר בודד של שניות. על מנת להדפיס את המקורות עליו מבסס מודל השפה את תשובותיו ניתן להוסיף את הפרמטר <code>response.get_formatted_sources</code>.\n",
        "</div>"
      ],
      "metadata": {
        "id": "5XNneUOlUJnE"
      }
    },
    {
      "cell_type": "code",
      "source": [
        "query_engine = index.as_query_engine()\n",
        "response = query_engine.query(\"given the context information, what are these documents about?\")\n",
        "print(response)"
      ],
      "metadata": {
        "id": "Y2cwkb5lgXCO",
        "colab": {
          "base_uri": "https://localhost:8080/"
        },
        "outputId": "418e8f96-39e7-4218-e14f-283170e550b7"
      },
      "execution_count": null,
      "outputs": [
        {
          "output_type": "stream",
          "name": "stderr",
          "text": [
            "Setting `pad_token_id` to `eos_token_id`:50256 for open-end generation.\n"
          ]
        },
        {
          "output_type": "stream",
          "name": "stdout",
          "text": [
            "These documents are about Israel's social report for the year 2022, which includes statistics on the capital markets, economic activity, unemployment, and financial assets held by the public.\n"
          ]
        }
      ]
    },
    {
      "cell_type": "code",
      "source": [
        "query_engine = index.as_query_engine()\n",
        "response = query_engine.query(\"given the context information, what is the status of higher education in Israel?\")\n",
        "print(response)"
      ],
      "metadata": {
        "colab": {
          "base_uri": "https://localhost:8080/"
        },
        "id": "ObCcbAqrYSDJ",
        "outputId": "4a99f029-db90-46d3-89bb-1478a62ff74c"
      },
      "execution_count": null,
      "outputs": [
        {
          "output_type": "stream",
          "name": "stderr",
          "text": [
            "Setting `pad_token_id` to `eos_token_id`:50256 for open-end generation.\n"
          ]
        },
        {
          "output_type": "stream",
          "name": "stdout",
          "text": [
            "The status of higher education in Israel is good, with a high percentage of students matriculating and a growing number of seniors continuing on to academic studies. However, the percentage of high school graduates continuing on to academic studies is low.\n"
          ]
        }
      ]
    },
    {
      "cell_type": "code",
      "source": [
        "query_engine = index.as_query_engine()\n",
        "response = query_engine.query(\"given the context information, what is the problem with the hi-tech sector in Israel?\")\n",
        "print(response)"
      ],
      "metadata": {
        "colab": {
          "base_uri": "https://localhost:8080/"
        },
        "id": "MiutBFZLYc7J",
        "outputId": "86f0d647-57fe-4344-e20d-f397baf83037"
      },
      "execution_count": null,
      "outputs": [
        {
          "output_type": "stream",
          "name": "stderr",
          "text": [
            "Setting `pad_token_id` to `eos_token_id`:50256 for open-end generation.\n"
          ]
        },
        {
          "output_type": "stream",
          "name": "stdout",
          "text": [
            "The problem with the hi-tech sector in Israel is that it relies heavily on educated workers, but the educational system in Israel is not producing enough graduates to meet the demand, leading to a lack of skilled workers in the sector.\n"
          ]
        }
      ]
    },
    {
      "cell_type": "code",
      "source": [
        "query_engine = index.as_query_engine()\n",
        "response = query_engine.query(\"given the context information, what was the total sum of financial assets held by the public in 2019?\")\n",
        "print(response.get_formatted_sources)"
      ],
      "metadata": {
        "colab": {
          "base_uri": "https://localhost:8080/"
        },
        "id": "Pb0Il7jSUud7",
        "outputId": "52c1bf54-81e5-4833-9234-f8b5056bca72"
      },
      "execution_count": null,
      "outputs": [
        {
          "output_type": "stream",
          "name": "stderr",
          "text": [
            "Setting `pad_token_id` to `eos_token_id`:50256 for open-end generation.\n"
          ]
        },
        {
          "output_type": "stream",
          "name": "stdout",
          "text": [
            "<bound method Response.get_formatted_sources of Response(response='NIS 4,061 billion', source_nodes=[NodeWithScore(node=Node(text='Israel: A Social Report – 2022\\n6\\nThe capital markets \\nin Israel and the \\nworld were not \\nadversely affected \\nby the Corona \\nepidemic; on the \\ncontrary: the leading \\nstocks listed on \\nthe Tel Aviv Stock \\nExchange broke \\ntheir 2019 record.\\nIf so, a change in the extent of “financial assets held \\nby the public” – growth or decline – means first and \\nforemost an increase or decrease in the assets of \\nthose Israelis owning a large amount of such assets \\nto begin with.\\nSo, what happened during the first year of the Corona \\nepidemic? As is well known, the epidemic caused \\na slowdown in economic activity, the lockdown of \\nnumerous businesses and a hike in unemployment.\\nAt the same time, the financial assets held by the \\npublic grew. In 2019, the year before the epidemic, \\nfinancial assets held by the public totaled NIS 4.061 \\nbillion – the highest amount ever, representing an \\nincrease of 10.3% in comparison with 2018. And \\nthen in 2020, the first year of the epidemic, the \\nfinancial assets held by the public increased by \\n8.5%, to NIS 4,406 billion6 (recall that the owners of \\nthese assets are in the upper income deciles and \\nespecially the upper income centiles). To understand \\nthe significance of the size of these assets, they can \\n6  2020 prices. Adva Center analysis of CBS, Statistical Abstract of Israel, various years.\\n7  Adva Center analysis of Ministry of Finance, CFO. Financial Report, various years; CBS, Statistical Abstract of Israel, various years.\\n8 Dror, G. December 31, 2021. The Tel Aviv Stock Exchange Summarizes 2021. Securities and Exchange Authority in Tel Aviv.\\nbe compared with the state budget: in 2019 Israel’s \\nbudget amounted to NIS 489.2 billion; in 2020 it was \\nhigher due to additions earmarked to combat the \\nCorona', doc_id='531c30e0-0862-44af-bece-6e11731acee3', embedding=None, doc_hash='081ac4d4e4ac92ea06ed55ac19875e752526a461b82399996a82b26eb78ba547', extra_info={'total_pages': 44, 'file_path': '/content/sample_data/Israel-SocialReport2022.pdf', 'source': '6'}, node_info={'start': 0, 'end': 1761, '_node_type': <NodeType.TEXT: '1'>}, relationships={<DocumentRelationship.SOURCE: '1'>: 'c616f4c5-9f60-49ef-b673-1a31432cd4ba', <DocumentRelationship.NEXT: '3'>: 'f39bbe1f-09d1-4a83-80ef-e11f6c4b9a47'}), score=0.5441243681356122), NodeWithScore(node=Node(text='billion; in 2020 it was \\nhigher due to additions earmarked to combat the \\nCorona epidemic: NIS 563.1 billion – some 8 times \\nsmaller than the extent of the financial assets in the \\nhands of the public.7\\nHow could that happen? It’s simple: the increase \\ncannot be attributed to the owners of the assets \\nincreasing their workday by 8.5%, but mainly to the \\nfact that the economic crisis resulted in individuals \\nand institutions investing their money in the capital \\nmarket and not in economic activity in the real world \\n– for example in equipment, machines or industrial \\nplants. The capital markets in Israel and the world \\nwere not adversely affected by the Corona epidemic; \\non the contrary: the leading stocks listed on the Tel \\nAviv Stock Exchange broke their 2019 record.8 It \\nshould be noted that possession of financial assets \\nis not limited to the top income deciles. Anyone \\nwho has a small savings account for their children \\nor saves part of their salary in a pension fund owns \\n', doc_id='f39bbe1f-09d1-4a83-80ef-e11f6c4b9a47', embedding=None, doc_hash='92253cacdd2d7d8a58d60a722c2514697af7274f981ae92aa218adfd55b0a421', extra_info={'total_pages': 44, 'file_path': '/content/sample_data/Israel-SocialReport2022.pdf', 'source': '6'}, node_info={'start': 1681, 'end': 2674, '_node_type': <NodeType.TEXT: '1'>}, relationships={<DocumentRelationship.SOURCE: '1'>: 'c616f4c5-9f60-49ef-b673-1a31432cd4ba', <DocumentRelationship.PREVIOUS: '2'>: '531c30e0-0862-44af-bece-6e11731acee3'}), score=0.5392774811799876)], extra_info={'531c30e0-0862-44af-bece-6e11731acee3': {'total_pages': 44, 'file_path': '/content/sample_data/Israel-SocialReport2022.pdf', 'source': '6'}, 'f39bbe1f-09d1-4a83-80ef-e11f6c4b9a47': {'total_pages': 44, 'file_path': '/content/sample_data/Israel-SocialReport2022.pdf', 'source': '6'}})>\n"
          ]
        }
      ]
    }
  ]
}