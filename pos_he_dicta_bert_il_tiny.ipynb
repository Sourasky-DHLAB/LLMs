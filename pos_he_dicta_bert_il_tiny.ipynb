{
  "nbformat": 4,
  "nbformat_minor": 0,
  "metadata": {
    "colab": {
      "provenance": [],
      "authorship_tag": "ABX9TyP9lZF76T0kguM+vldwjFcl",
      "include_colab_link": true
    },
    "kernelspec": {
      "name": "python3",
      "display_name": "Python 3"
    },
    "language_info": {
      "name": "python"
    }
  },
  "cells": [
    {
      "cell_type": "markdown",
      "metadata": {
        "id": "view-in-github",
        "colab_type": "text"
      },
      "source": [
        "<a href=\"https://colab.research.google.com/github/Sourasky-DHLAB/LLMs/blob/main/pos_he_dicta_bert_il_tiny.ipynb\" target=\"_parent\"><img src=\"https://colab.research.google.com/assets/colab-badge.svg\" alt=\"Open In Colab\"/></a>"
      ]
    },
    {
      "cell_type": "code",
      "source": [
        "# Import libraries\n",
        "from transformers import AutoModel, AutoTokenizer\n",
        "import pandas as pd\n",
        "import json"
      ],
      "metadata": {
        "id": "-swxZuk_m7kn"
      },
      "execution_count": 1,
      "outputs": []
    },
    {
      "cell_type": "code",
      "source": [
        "# Load the tokenizer and model\n",
        "tokenizer = AutoTokenizer.from_pretrained('dicta-il/dictabert-tiny-joint')\n",
        "model = AutoModel.from_pretrained('dicta-il/dictabert-tiny-joint', trust_remote_code=True)"
      ],
      "metadata": {
        "id": "N5wX96_vqsDd"
      },
      "execution_count": null,
      "outputs": []
    },
    {
      "cell_type": "code",
      "source": [
        "# Set the model to evaluation mode\n",
        "model.eval()"
      ],
      "metadata": {
        "id": "Y-Y7nZF6qyMM"
      },
      "execution_count": null,
      "outputs": []
    },
    {
      "cell_type": "code",
      "source": [
        "# Read sentences from the file\n",
        "file_path = \"/content/sentences.txt\"\n",
        "with open(file_path, \"r\", encoding=\"utf-8\") as file:\n",
        "    sentences = [line.strip() for line in file if line.strip()]"
      ],
      "metadata": {
        "id": "zMiuWDMiyWkj"
      },
      "execution_count": 4,
      "outputs": []
    },
    {
      "cell_type": "code",
      "source": [
        "# Initialize a list to hold the outputs\n",
        "outputs = []"
      ],
      "metadata": {
        "id": "QE2wZl9xtST7"
      },
      "execution_count": 5,
      "outputs": []
    },
    {
      "cell_type": "code",
      "source": [
        "# Process each sentence\n",
        "for sentence in sentences:\n",
        "    # Tokenize and predict\n",
        "    inputs = tokenizer(sentence, return_tensors=\"pt\", max_length=512, truncation=True)\n",
        "    output = model.predict([sentence], tokenizer, output_style='json')\n",
        "    outputs.append(output)"
      ],
      "metadata": {
        "id": "hDwmU0q231fz"
      },
      "execution_count": 12,
      "outputs": []
    },
    {
      "cell_type": "code",
      "source": [
        "# Save the outputs\n",
        "with open('/content/model_outputs.json', 'w', encoding='utf-8') as json_file:\n",
        "    json.dump(outputs, json_file, ensure_ascii=False, indent=4)"
      ],
      "metadata": {
        "id": "PZR8vxKgyCV6"
      },
      "execution_count": 6,
      "outputs": []
    },
    {
      "cell_type": "code",
      "source": [
        "# Initialize a list for CSV rows\n",
        "csv_rows = []"
      ],
      "metadata": {
        "id": "rzIQpBakwPVn"
      },
      "execution_count": 13,
      "outputs": []
    },
    {
      "cell_type": "code",
      "source": [
        "# Find the maximum number of verbs in future tense and compounds for any sentence\n",
        "max_verbs = max(len(verbs) for entry in outputs for sub_entry in entry for verbs in [[token['token'] for token in sub_entry['tokens'] if token['morph']['pos'] in ['VERB', 'AUX'] and token['morph']['feats'].get('Tense') == 'Fut']])\n",
        "max_compounds = max(len(compounds) for entry in outputs for sub_entry in entry for compounds in [[token['token'] for token in sub_entry['tokens'] if token['syntax']['dep_func'] == 'compound:smixut']])"
      ],
      "metadata": {
        "id": "3SRuuMUW4PJU"
      },
      "execution_count": 16,
      "outputs": []
    },
    {
      "cell_type": "code",
      "source": [
        "# Process the outputs to extract future tense verbs and compound:smixut elements\n",
        "for entry in outputs:\n",
        "    for sub_entry in entry:\n",
        "        # Initialize row with the sentence\n",
        "        row = [sub_entry['text']]\n",
        "        # Collect all future tense verbs and compound:smixut elements\n",
        "        verbs = [token['token'] for token in sub_entry['tokens'] if token['morph']['pos'] in ['VERB', 'AUX'] and token['morph']['feats'].get('Tense') == 'Fut']\n",
        "        compounds = [token['token'] for token in sub_entry['tokens'] if token['syntax']['dep_func'] == 'compound:smixut']\n",
        "\n",
        "        # Extend the row with verbs and compounds while maintaining the order\n",
        "        extended_row = row + verbs + [''] * (max_verbs - len(verbs)) + compounds\n",
        "        csv_rows.append(extended_row)"
      ],
      "metadata": {
        "id": "j1OPxWZKpfsT"
      },
      "execution_count": 17,
      "outputs": []
    },
    {
      "cell_type": "code",
      "source": [
        "# Deduplicate rows\n",
        "unique_rows = set(tuple(row) for row in csv_rows)\n",
        "csv_rows = [list(row) for row in unique_rows]"
      ],
      "metadata": {
        "id": "ezpJQAhfysF7"
      },
      "execution_count": 19,
      "outputs": []
    },
    {
      "cell_type": "code",
      "source": [
        "# Create column headers\n",
        "column_headers = ['Sentence'] + [f'Verb_Fut{i+1}' for i in range(max_verbs)] + [f'Compound_Smixut{i+1}' for i in range(max_compounds)]"
      ],
      "metadata": {
        "id": "wDxJUoxY2NXR"
      },
      "execution_count": 20,
      "outputs": []
    },
    {
      "cell_type": "code",
      "source": [
        "# Create a DataFrame and save to CSV\n",
        "csv_df = pd.DataFrame(csv_rows, columns=column_headers)\n",
        "csv_file_path = '/content/future_tense_verbs.csv'\n",
        "csv_df.to_csv(csv_file_path, index=False, header=True, encoding='utf-8')"
      ],
      "metadata": {
        "id": "hpwMk_fUnhs_"
      },
      "execution_count": 21,
      "outputs": []
    }
  ]
}