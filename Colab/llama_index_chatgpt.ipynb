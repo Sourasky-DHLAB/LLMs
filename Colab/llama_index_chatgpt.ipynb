{
  "nbformat": 4,
  "nbformat_minor": 0,
  "metadata": {
    "colab": {
      "provenance": [],
      "include_colab_link": true
    },
    "kernelspec": {
      "name": "python3",
      "display_name": "Python 3"
    },
    "language_info": {
      "name": "python"
    }
  },
  "cells": [
    {
      "cell_type": "markdown",
      "metadata": {
        "id": "view-in-github",
        "colab_type": "text"
      },
      "source": [
        "<a href=\"https://colab.research.google.com/github/Sourasky-DHLAB/LLMs/blob/main/Colab/llama_index_chatgpt.ipynb\" target=\"_parent\"><img src=\"https://colab.research.google.com/assets/colab-badge.svg\" alt=\"Open In Colab\"/></a>"
      ]
    },
    {
      "cell_type": "markdown",
      "source": [
        "<div style=\"direction:rtl\" dir=\"rtl\">\n",
        "    <img src=\"http://drive.google.com/uc?export=view&id=1FnLVIqEV1Tt5rCEOIk5OxihO6xdZgTMe\"><br>\n",
        "<div style=\"direction:rtl\" dir=\"rtl\">\n",
        "  <p style=\"text-align: right; direction: rtl; float: right;\">    נכתב על ידי <a href=\"mailto:odedzarchia@tauex.tau.ac.il\">עודד זרחיה</a> | <a href=\"https://github.com/Sourasky-DHLAB\">Github</a><br>\n",
        "    <a href=\"https://cenlib.tau.ac.il/\">הספרייה המרכזית ע\"ש סוראסקי</a> | <a href=\"https://tau.ac.il/\">אוניברסיטת תל אביב</a>\n",
        "</div></p>"
      ],
      "metadata": {
        "id": "vU2j2zGydhuT"
      }
    },
    {
      "cell_type": "markdown",
      "source": [
        "<div dir=\"rtl\">\n",
        "<h1><strong>1.  מודלי שפה גדולים לשימוש אקדמי - עדכניות נתוני האימון </strong></h1>\n",
        "<div dir=\"rtl\" style=\"direction: rtl;\">\n",
        "<p style=\"text-align: right; direction: rtl; float: right;\"><a href=\"https://he.wikipedia.org/wiki/%D7%9E%D7%95%D7%93%D7%9C_%D7%A9%D7%A4%D7%94_%D7%92%D7%93%D7%95%D7%9C\">מודל שפה גדול</a> (באנגלית: Large Language Model; ראשי תיבות: LLM) הוא אלגוריתם למידה עמוקה שיכול לזהות, לסכם, לתרגם, לחזות ולייצר טקסט וצורות אחרות של תוכן בהתבסס על ידע שנרכש ממערכי נתונים אדירי מימדים.</p>\n",
        "\n",
        "<p style=\"text-align: right; direction: rtl; float: right;\">מודלי שפה גדולים הם טכנולוגיה יוצאת מגדר הרגיל ליצירת טקסט. עם זאת, טכנולוגיה זו עדיין נמצאת בראשיתה ולפיכך סובלת משורה של מגבלות משמעותיות שמקשות על ניצולה לצרכים אקדמיים. אחת מן המגבלות המשמעותיות קשורה להוספת ידע חדש אל מודל השפה.</p>\n",
        "\n",
        "<p style=\"text-align: right; direction: rtl; float: right;\">אימון של מודלי שפה גדולים מבוצע על סט תחום בזמן של נתונים. כלומר, נתוני האימון מכילים מידע שמסתיים בתאריך מסוים (knowledge cutoff). כך, לדוגמה, נתוני האימון של מודל השפה ChatGPT של חברת OpenAI הסתיימו בספטמבר 2021. לפיכך, מודל זה לא יוכל להתייחס לארועים שקרו לאחר תאריך זה.</p></div>\n"
      ],
      "metadata": {
        "id": "V9jx8PbvdtQU"
      }
    },
    {
      "cell_type": "markdown",
      "source": [
        "<div dir=\"rtl\">\n",
        "<h1><strong>2. מודלי שפה גדולים לשימוש אקדמי - הוספת נתונים חדשים</strong></h1>\n",
        "<div dir=\"rtl\" style=\"direction: rtl;\">\n",
        "<p style=\"text-align: right; direction: rtl; float: right;\">ישנן מספר דרכים להוסיף נתונים למודל שפה גדול, כאשר הנפוצה מביניהן מכונה <a href = https://en.wikipedia.org/wiki/Fine-tuning_(machine_learning)>Fine-tuning</a>. בדרך זו ניתן לאמן מודל שפה על סט הנתונים שבידך. עם זאת, פעולה זו מצריכה מיומנות טכנית גבוהה, משאבי מחשוב מרובים וזמן רב.\n",
        "\n",
        "<p style=\"text-align: right; direction: rtl; float: right;\">בהשראת ההתפתחויות האחרונות בתחום מסגרות הפיתוח לעבודה עם מודלי שפה גדולים, מחברת  מחברת זו תלווה אותך בהתקנה של <a href = https://gpt-index.readthedocs.io/en/latest/>Llama-index</a>, מסגרת פיתוח המאפשרת חיבור של מקורות מידע פרטיים מסוגים שונים (PDF, Word, CSV, TXT) אל מודל שפה גדול. </p>\n",
        "\n",
        "\n",
        "<p style=\"text-align: right; direction: rtl; float: right;\">מסגרת זו תעבוד מול ChatGPT של חברת <a href = https://openai.com/>OpenAI</a> דרך ממשק תכנות יישומים (API). לפיכך, עבודה עם מחברת זו דורשת מפתח API של חברת OpenAI. מפתח זה זמין לרכישה דרך אתר החברה.</p>\n",
        "</div>"
      ],
      "metadata": {
        "id": "DqWDbLsTNMYA"
      }
    },
    {
      "cell_type": "markdown",
      "source": [
        "<div dir=\"rtl\">\n",
        "<h1><strong>3. מודלי שפה גדולים לשימוש אקדמי - Llama index</strong></h1>\n",
        "<div dir=\"rtl\" style=\"direction: rtl;\">\n",
        "<p style=\"text-align: right; direction: rtl; float: right;\">Llama index היא <a href = https://he.wikipedia.org/wiki/%D7%A9%D7%9C%D7%93_%D7%AA%D7%95%D7%9B%D7%A0%D7%94>מסגרת פיתוח</a> (data framework) שמטרתה לשמש כממשק בין מודל השפה לבין המידע שנמצא ברשותך. מטרה זו מושגת באמצעות שלושה מרכיבים עיקריים:</p>\n",
        "</div>\n",
        "<ol>\n",
        "<li dir=\"rtl\" style=\"direction: rtl;\"><a href = https://gpt-index.readthedocs.io/en/latest/reference/readers.html>מַחְבֵּר נתונים</a> (data connector) - מגוון של מחברי נתונים המאפשרים למשתמשים לחבר את מקורות המידע שברשותם (מסמכים, בסיסי נתונים, קבצי PDF וכולי) אל מודל השפה.</li>\n",
        "<li dir=\"rtl\" style=\"direction: rtl;\"><a href = https://gpt-index.readthedocs.io/en/latest/reference/indices.html>אינדקסי-מידע</a> (data indices) - צורות שונות להבניית המידע שברשות המשתמשים (אינדקסים, גרפים וכולי) כך שניתן יהיה להשתמש בו בקלות עם מודל השפה.</li>\n",
        "<li dir=\"rtl\" style=\"direction: rtl;\"><a href = https://gpt-index.readthedocs.io/en/latest/guides/primer/query_interface.html>ממשק אחזור/שאילתה</a> (retrieval/query interface) - ממשק לתשאול מודל השפה ולקבלת תגובה המתייחסת למידע שהזינו לו.&nbsp;\n",
        "<p style=\"text-align: right; direction: rtl; float: right;\">&nbsp;</p>\n",
        "</li>\n",
        "</ol>\n",
        "</div>"
      ],
      "metadata": {
        "id": "7KQjplW-bIAN"
      }
    },
    {
      "cell_type": "markdown",
      "source": [
        "<div dir=\"rtl\" style=\"direction: rtl;\">\n",
        "<h1><strong>4. התקנת ספריות</strong></h1>\n",
        "<div dir=\"rtl\" style=\"direction: rtl;\">\n",
        "<p style=\"text-align: right; direction: rtl; float: right;\">הריצו את התא הבא כדי להוריד ולהתקין את מסגרת הפיתוח של Llama index ואת ספריית openai המאפשרת גישה בפייתון אל מִנְשַׁק תִּכְנוּת היִשּׂוּמִים (API) של חברת OpenAI.</p>\n",
        "</div>\n",
        "</div>"
      ],
      "metadata": {
        "id": "rJUAoskkfzNZ"
      }
    },
    {
      "cell_type": "code",
      "execution_count": null,
      "metadata": {
        "id": "8GOnj-uNwte0"
      },
      "outputs": [],
      "source": [
        "!pip install llama-index\n",
        "!pip install openai"
      ]
    },
    {
      "cell_type": "markdown",
      "source": [
        "<h1><strong><div style=\"direction:rtl\" dir=\"rtl\">5. הגדרת מפתח API </div></h1></strong>\n",
        "<div style=\"direction:rtl\" dir=\"rtl\">\n",
        "  <p style=\"text-align: right; direction: rtl; float: right;\">\n",
        "הכניסו את מפתח ה-API שלכם במקום המתאים לכך בשורות 3 ו-4 (<code>INSERT_OPENAI_API_KEY_HERE</code>). לאחר מכן הריצו את התא.</p>"
      ],
      "metadata": {
        "id": "jkayya3ohbmJ"
      }
    },
    {
      "cell_type": "code",
      "source": [
        "import os\n",
        "import openai\n",
        "openai.api_key = 'INSERT_OPENAI_API_KEY_HERE'\n",
        "os.environ['OPENAI_API_KEY'] = 'INSERT_OPENAI_API_KEY_HERE'"
      ],
      "metadata": {
        "id": "Hm9ik6kwU0i5"
      },
      "execution_count": null,
      "outputs": []
    },
    {
      "cell_type": "markdown",
      "source": [
        "<div dir=\"rtl\">\n",
        "<h1><strong>6. הורדת מסמך PDF</strong></h1>\n",
        "<p style=\"text-align: right; direction: rtl; float: right;\">הריצו את התא הבא כדי להוריד את קובץ ה-PDF שאותו נאנדקס באמצעות llama index. במחברת זו נשתמש בגרסה האנגלית של דו\"ח בשם <a href = https://adva.org/he/socialreport2022/>\"תמונת מצב חברתית 2022\".</a> שפורסם על ידי מרכז אדוה.\n",
        "</div>"
      ],
      "metadata": {
        "id": "6m413rZxuYii"
      }
    },
    {
      "cell_type": "code",
      "source": [
        "# download pdf file\n",
        "! wget -P /content/sample_data/ https://adva.org/wp-content/uploads/2022/05/Israel-SocialReport2022.pdf"
      ],
      "metadata": {
        "id": "ElQdtp9fuVSt"
      },
      "execution_count": null,
      "outputs": []
    },
    {
      "cell_type": "markdown",
      "source": [
        "<div dir=\"rtl\">\n",
        "<h1><strong>7. טעינת מסמך PDF</strong></h1>\n",
        "<p style=\"text-align: right; direction: rtl; float: right;\">בתא הבא נשתמש בספריית <a href = https://pymupdf.readthedocs.io/en/latest/index.html>PyMuPDF</a> כדי לטעון את כל 44 העמודים של הדו\"ח. הפרמטר <code>metadata=True</code> יאפשר לנו לקבל מידע מועיל כדוגמת מספרי עמודים כך שנוכל לעקוב אחר המקורות לתשובות שיספק המודל.\n",
        "</div>"
      ],
      "metadata": {
        "id": "lLCPj-Iyyg1D"
      }
    },
    {
      "cell_type": "code",
      "source": [
        "from llama_index import VectorStoreIndex, SimpleDirectoryReader, ListIndex, download_loader\n",
        "\n",
        "PyMuPDFReader = download_loader(\"PyMuPDFReader\")\n",
        "documents = PyMuPDFReader().load(file_path='/content/sample_data/Israel-SocialReport2022.pdf', metadata=True)\n",
        "# ensure document texts are not bytes objects\n",
        "for doc in documents:\n",
        "    doc.text = doc.text.decode()"
      ],
      "metadata": {
        "id": "sIPBL1Y4km1y"
      },
      "execution_count": null,
      "outputs": []
    },
    {
      "cell_type": "markdown",
      "source": [
        "<div dir=\"rtl\">\n",
        "<h1><strong>8. הדפסת עמוד לבדיקה</strong></h1>\n",
        "<p style=\"text-align: right; direction: rtl; float: right;\">הריצו את התא הבא כדי להדפיס עמוד לדוגמה. ניתן לשנות את מספר העמוד שיודפס על ידי שינוי המספר בתוך הסוגריים המרובעים. יושם לב כי פייתון מתחיל לספור מ-0. כלומר, הקלדה של הספרה 1 בתוך הסוגריים המרובעים תדפיס את העמוד השני במסמך.\n",
        "</div>"
      ],
      "metadata": {
        "id": "X21I-aTfz37T"
      }
    },
    {
      "cell_type": "code",
      "source": [
        "# print a document to test. Each document is a single page from the pdf, with appropriate metadata\n",
        "documents[1]"
      ],
      "metadata": {
        "id": "DHOu9ZI4uLA1"
      },
      "execution_count": null,
      "outputs": []
    },
    {
      "cell_type": "markdown",
      "source": [
        "<div dir=\"rtl\">\n",
        "<h1><strong>9. יצירת ואחסון אינדקס</strong></h1>\n",
        "<p style=\"text-align: right; direction: rtl; float: right;\">הריצו את התא הבא כדי לאנדקס את מסמך ה-PDF שהעלנו. לשימוש חוזר, קבצי האינדקס יאוחסנו בתיקיית <code>storage</code> כקבצי JSON.\n",
        "המסגרת של llama index מאפשרת יצירת סוגים שונים של <a href = https://gpt-index.readthedocs.io/en/latest/guides/primer/index_guide.html>אינדקסים</a>, אולם בדוגמה זו נשתמש באינדקוס הפשוט ביותר אשר במסגרתו המסמך ממופה לוקטורים.\n",
        "</div>"
      ],
      "metadata": {
        "id": "XrkQe2Ze0Nsp"
      }
    },
    {
      "cell_type": "code",
      "source": [
        "index = VectorStoreIndex.from_documents(documents)\n",
        "index.storage_context.persist(persist_dir=\"./storage\")"
      ],
      "metadata": {
        "id": "u40vgkT3uY5X"
      },
      "execution_count": null,
      "outputs": []
    },
    {
      "cell_type": "markdown",
      "source": [
        "<div dir=\"rtl\">\n",
        "<h1><strong>10. תשאול המסמך</strong></h1>\n",
        "<p style=\"text-align: right; direction: rtl; float: right;\">כעת אנו מוכנים לתשאל את המסמך באמצעות מודל השפה. llama index מאפשרת סוגים שונים של <a href =https://gpt-index.readthedocs.io/en/latest/use_cases/queries.html>חיפוש</a>, אולם בדוגמה זו נשתמש באפשרות החיפוש הפשוטה ביותר, דהיינו חיפוש סמנטי. ניתן להחליף את השאלות בהתאם לצורך בשורה השנייה של כל תא, בין המרכאות. הזמן הממוצע לתשובה עומד על מספר בודד של שניות. על מנת להדפיס את המקורות עליו מבסס מודל השפה את תשובותיו ניתן להוסיף את הפרמטר <code>response.get_formatted_sources</code>.\n",
        "<b> יושם לב כי כל שאילתה המתבצעת דרך ה-API תחוייב בתשלום בהתאם לכמות הטוקנים הכוללת שמועברת מ/אל המודל.\n",
        "</div>"
      ],
      "metadata": {
        "id": "LOwkYTu603Yo"
      }
    },
    {
      "cell_type": "code",
      "source": [
        "query_engine = index.as_query_engine()\n",
        "response = query_engine.query(\"given the context information, why is the vision of Israel as a startup nation is problematic?\")\n",
        "print(response)"
      ],
      "metadata": {
        "colab": {
          "base_uri": "https://localhost:8080/"
        },
        "id": "Y9Nj4Ykmxkmr",
        "outputId": "67ccdaed-fc7c-4061-b849-425894882ee0"
      },
      "execution_count": null,
      "outputs": [
        {
          "output_type": "stream",
          "name": "stdout",
          "text": [
            "\n",
            "The vision of Israel as a startup nation is problematic because the educational system is not equipped to provide the educated workers needed to support the hi-tech sector. Additionally, the public health system, public education system, and housing policy lack the necessary personnel, infrastructure, and programs to provide quality services to the public. Furthermore, the fiscal policy of the country does not provide enough resources to social services, resulting in a low level of taxation compared to other western countries.\n"
          ]
        }
      ]
    },
    {
      "cell_type": "code",
      "source": [
        "query_engine = index.as_query_engine()\n",
        "response = query_engine.query(\"given the context information, what is the status of the health care system in Israel?\")\n",
        "print(response)"
      ],
      "metadata": {
        "colab": {
          "base_uri": "https://localhost:8080/"
        },
        "id": "MURtwbK_1PmD",
        "outputId": "b0998dae-cccf-4d8b-923c-e6f692d6ddc4"
      },
      "execution_count": null,
      "outputs": [
        {
          "output_type": "stream",
          "name": "stdout",
          "text": [
            "\n",
            "The health care system in Israel is in desperate need of additional personnel, proper infrastructure, and programs to assist the indigent. It is also facing increasing costs for those requiring its services, and is underfunded in comparison to other OECD countries.\n"
          ]
        }
      ]
    },
    {
      "cell_type": "code",
      "source": [
        "query_engine = index.as_query_engine()\n",
        "response = query_engine.query(\"given the context information, how hard is it to buy housing in Israel?\")\n",
        "print(response)"
      ],
      "metadata": {
        "id": "5aJGxN8z0KdK",
        "outputId": "d028f0e3-3441-4202-e78d-f914cbf34826",
        "colab": {
          "base_uri": "https://localhost:8080/"
        }
      },
      "execution_count": null,
      "outputs": [
        {
          "output_type": "stream",
          "name": "stdout",
          "text": [
            "\n",
            "Given the context information, it appears that it is difficult to buy housing in Israel. The proportion of households in the top income quintile owning two or more apartments has decreased from 24.8% in 2003 to 10.0% in 2019. Additionally, the latest figures from 2019 show that 29.7% of Israeli households did not own a home, while only 9.1% of households owned two or more apartments. This indicates that it is difficult to buy housing in Israel.\n"
          ]
        }
      ]
    },
    {
      "cell_type": "code",
      "source": [
        "query_engine = index.as_query_engine()\n",
        "response = query_engine.query(\"given the context information, how did the Covid-19 pandemic influence Israel?\")\n",
        "print(response.get_formatted_sources)"
      ],
      "metadata": {
        "id": "cjgpiaCbyHF7",
        "outputId": "5d5f8314-43fa-47c1-def1-227d0181a741",
        "colab": {
          "base_uri": "https://localhost:8080/"
        }
      },
      "execution_count": null,
      "outputs": [
        {
          "output_type": "stream",
          "name": "stdout",
          "text": [
            "<bound method Response.get_formatted_sources of Response(response=\"\\nThe Covid-19 pandemic had a significant impact on Israel's economy. It caused a slowdown in economic activity, the closure of numerous businesses, and a hike in unemployment. At the same time, the financial assets held by the public grew, with the leading stocks listed on the Tel Aviv Stock Exchange breaking their 2019 record. The epidemic also caused huge government outlays for aid to individuals and businesses, as well as on health.\", source_nodes=[NodeWithScore(node=Node(text='Israel: A Social Report – 2022\\n3\\nIntroduction: The Corona Epidemic \\nWas Enriching for the Rich\\nAt present (April 2022), the socio-economic picture of the whole \\nworld is changing before our very eyes, against the background \\nof the war raging in eastern Europe. Russia and the Ukraine, both \\nmajor players in the world grain and energy markets, are fighting a \\nwar that will probably affect the economic activity and the public \\nagenda in many countries. While Israel is not close to the battle \\narena, it is part of the international trade networks of the two \\ncombatants and as such, its economy cannot but feel the brunt; \\nfor example, fuel and food prices will be impacted, and with them, \\nthe size of households’ disposable income.1\\nThe nature of socio-economic data is that they become known \\nwith the passage of time – some after a few months and others \\nafter a year or two or more. In the meantime, the latest socio-\\neconomic data for Israel published by state institutions – the Bank \\n1  “The Ukraine war raised the price of oil and gas.” Ministry of Energy. February 22, 2022. “Update on the price of gas”. March 2022. Yediot Aharonot (Hebrew)\\nof Israel, the Central Bureau of Statistics (CBS) and the National \\nInsurance Institute (NII) – are, at best, for 2021, while some are \\nfor 2020 and others for 2019.\\nAnd during those years, we were subject to another worldwide \\ncrisis with socio-economic implications – the Corona epidemic. \\nThat epidemic, which has yet to run its course, though it was \\nshunted to the margins of the news by the sights and sounds of the \\nRussian war against the Ukraine, caused the death of millions, the \\nclosure of numerous businesses, unemployment rates unknown \\nsince the 1929 crash, as well as huge government outlays for aid \\nto individuals and businesses and, of course, on health.\\nAt the same time there were individuals who not only were not \\nadversely affected during the Corona crisis, but actually profited. \\n', doc_id='e9fa3813-c73f-450e-a620-7fc3543e74c9', embedding=None, doc_hash='951307d166411ac8aba53a10c045d67b2a4f2caef9b57cc84b48fe01f4981b9a', extra_info={'total_pages': 44, 'file_path': '/content/sample_data/Israel-SocialReport2022.pdf', 'source': '3'}, node_info={'start': 0, 'end': 1961, '_node_type': <NodeType.TEXT: '1'>}, relationships={<DocumentRelationship.SOURCE: '1'>: '6befe293-0b6d-49f1-aa22-960f5902cdde'}), score=0.8631268368081725), NodeWithScore(node=Node(text='Israel: A Social Report – 2022\\n6\\nThe capital markets \\nin Israel and the \\nworld were not \\nadversely affected \\nby the Corona \\nepidemic; on the \\ncontrary: the leading \\nstocks listed on \\nthe Tel Aviv Stock \\nExchange broke \\ntheir 2019 record.\\nIf so, a change in the extent of “financial assets held \\nby the public” – growth or decline – means first and \\nforemost an increase or decrease in the assets of \\nthose Israelis owning a large amount of such assets \\nto begin with.\\nSo, what happened during the first year of the Corona \\nepidemic? As is well known, the epidemic caused \\na slowdown in economic activity, the lockdown of \\nnumerous businesses and a hike in unemployment.\\nAt the same time, the financial assets held by the \\npublic grew. In 2019, the year before the epidemic, \\nfinancial assets held by the public totaled NIS 4.061 \\nbillion – the highest amount ever, representing an \\nincrease of 10.3% in comparison with 2018. And \\nthen in 2020, the first year of the epidemic, the \\nfinancial assets held by the public increased by \\n8.5%, to NIS 4,406 billion6 (recall that the owners of \\nthese assets are in the upper income deciles and \\nespecially the upper income centiles). To understand \\nthe significance of the size of these assets, they can \\n6  2020 prices. Adva Center analysis of CBS, Statistical Abstract of Israel, various years.\\n7  Adva Center analysis of Ministry of Finance, CFO. Financial Report, various years; CBS, Statistical Abstract of Israel, various years.\\n8 Dror, G. December 31, 2021. The Tel Aviv Stock Exchange Summarizes 2021. Securities and Exchange Authority in Tel Aviv.\\nbe compared with the state budget: in 2019 Israel’s \\nbudget amounted to NIS 489.2 billion; in 2020 it was \\nhigher due to additions earmarked to combat the \\nCorona epidemic: NIS 563.1 billion – some 8 times \\nsmaller than the extent of the financial assets in the \\nhands of the public.7\\nHow could that happen? It’s simple: the increase \\ncannot be attributed to the owners of the assets \\nincreasing their workday by 8.5%, but mainly to the \\nfact that the economic crisis resulted in individuals \\nand institutions investing their money in the capital \\nmarket and not in economic activity in the real world \\n– for example in equipment, machines or industrial \\nplants. The capital markets in Israel and the world \\nwere not adversely affected by the Corona epidemic; \\non the contrary: the leading stocks listed on the Tel \\nAviv Stock Exchange broke their 2019 record.8 It \\nshould be noted that possession of financial assets \\nis not limited to the top income deciles. Anyone \\nwho has a small savings account for their children \\nor saves part of their salary in a pension fund owns \\n', doc_id='413ca16c-03fc-4e80-a6ab-2693741ed4b9', embedding=None, doc_hash='d302eb8d938abb9a5117f2de5d3260388154b73350ff5a1b250c4980415c8cc4', extra_info={'total_pages': 44, 'file_path': '/content/sample_data/Israel-SocialReport2022.pdf', 'source': '6'}, node_info={'start': 0, 'end': 2674, '_node_type': <NodeType.TEXT: '1'>}, relationships={<DocumentRelationship.SOURCE: '1'>: '19b8bb23-c1ec-4909-8125-b598622e81d4'}), score=0.8508975858434931)], extra_info={'e9fa3813-c73f-450e-a620-7fc3543e74c9': {'total_pages': 44, 'file_path': '/content/sample_data/Israel-SocialReport2022.pdf', 'source': '3'}, '413ca16c-03fc-4e80-a6ab-2693741ed4b9': {'total_pages': 44, 'file_path': '/content/sample_data/Israel-SocialReport2022.pdf', 'source': '6'}})>\n"
          ]
        }
      ]
    }
  ]
}